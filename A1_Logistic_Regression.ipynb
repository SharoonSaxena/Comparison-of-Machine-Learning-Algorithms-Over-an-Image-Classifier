{
 "cells": [
  {
   "cell_type": "markdown",
   "metadata": {},
   "source": [
    "# Algorithm 1:\n",
    "\n",
    "## Logistic Regression"
   ]
  },
  {
   "cell_type": "markdown",
   "metadata": {},
   "source": [
    "## Importing the necessary Libraries\n",
    "\n",
    "### numpy\n",
    "        NumPy is the fundamental package for scientific computing with Python. It contains among other things: a powerful N-dimensional array object; sophisticated (broadcasting) functions\n",
    "\n",
    "### pandas\n",
    "        In computer programming, pandas is a software library written for the Python programming language for data manipulation and analysis. In particular, it offers data structures and operations for manipulating numerical tables and time series.\n",
    "        \n",
    "### datetime\n",
    "        In Python, date, time and datetime classes provides a number of function to deal with dates, times and time intervals. Date and datetime are an object in Python, so when you manipulate them, you are actually manipulating objects and not string or timestamps.\n",
    "        \n",
    "### matplotlib\n",
    "        Matplotlib is a plotting library for the Python programming language and its numerical mathematics extension NumPy."
   ]
  },
  {
   "cell_type": "code",
   "execution_count": 4,
   "metadata": {},
   "outputs": [],
   "source": [
    "import numpy as np\n",
    "import pandas as pd\n",
    "import datetime\n",
    "import matplotlib.pyplot as plt\n"
   ]
  },
  {
   "cell_type": "markdown",
   "metadata": {},
   "source": [
    "## Importing the dataset\n",
    "This is done in the following way, Using the Pandas Library.\n",
    "#### Syntax: \n",
    "#### pd.read_csv('File_Name')\n",
    "\n",
    "### Also\n",
    "\n",
    "### We need to saperate the Independent and the dependent variables, i.e. x and y respectively.\n",
    "Here the matrix of 784 features are the independednt variable and the target labels corresponding to each image are the dependent variables.\n",
    "\n",
    "## Making test and the training set\n",
    "This is done so that the model trained must have some unseen data to test upon. Therefore 10,000 images are kept aside to test the performance of our model upon.\n",
    "\n",
    "The MNIST dataset is divided in to 4 parts:\n",
    "\n",
    "## x_train : \n",
    "        The dataset over which the model will be trained upon, it is a set of 60,000 greyscale images. Our Logistic Regression Algorithm will be trained over this data\n",
    "        \n",
    "## y_train :\n",
    "        This is the labelled dataset corresponding to the x_train, this contains the target labels corresponding to the Images of the dataset.\n",
    "        \n",
    "## x_test : \n",
    "        This is the dataset kept aside to test the Machine Learning model trained upon the Dataset x_train, so that out model will have unseen data to predict and test upon.\n",
    "        \n",
    "## y_test :\n",
    "        This is the labelled dataset corresponding to the x_train, this contains the target labels corresponding to the Images of the dataset."
   ]
  },
  {
   "cell_type": "code",
   "execution_count": 5,
   "metadata": {},
   "outputs": [],
   "source": [
    "x_train = pd.read_csv('train_images.csv').values\n",
    "y_train = pd.read_csv('train_labels.csv').values\n",
    "x_test  = pd.read_csv('test_images.csv').values\n",
    "y_test  = pd.read_csv('test_labels.csv').values"
   ]
  },
  {
   "cell_type": "markdown",
   "metadata": {},
   "source": [
    "## Feature Scaling:\n",
    "Feature scaling is a method used to standardize the range of independent variables or features of data. In data processing, it is also known as data normalization and is generally performed during the data preprocessing step.\n",
    "\n",
    "### Standardization\n",
    "In machine learning, we can handle various types of data, e.g. audio signals and pixel values for image data, and this data can include multiple dimensions. Feature standardization makes the values of each feature in the data have zero-mean (when subtracting the mean in the numerator) and unit-variance. This method is widely used for normalization in many machine learning algorithms (e.g., support vector machines, logistic regression, and neural networks. The general method of calculation is to determine the distribution mean and standard deviation for each feature. Next we subtract the mean from each feature. Then we divide the values (mean is already subtracted) of each feature by its standard deviation.\n",
    "\n",
    "## Standard Scaler\n",
    "\n",
    "##  $$x'= \\frac{x - mean(x)}{\\sigma}$$\n"
   ]
  },
  {
   "cell_type": "markdown",
   "metadata": {},
   "source": [
    "## Fitting the Scaler to the x_train\n",
    "so that the scaler can reshape itself to the X_train Dimensions\n"
   ]
  },
  {
   "cell_type": "code",
   "execution_count": 6,
   "metadata": {},
   "outputs": [
    {
     "name": "stderr",
     "output_type": "stream",
     "text": [
      "/anaconda3/lib/python3.6/site-packages/sklearn/utils/validation.py:475: DataConversionWarning: Data with input dtype int64 was converted to float64 by StandardScaler.\n",
      "  warnings.warn(msg, DataConversionWarning)\n"
     ]
    },
    {
     "data": {
      "text/plain": [
       "StandardScaler(copy=True, with_mean=True, with_std=True)"
      ]
     },
     "execution_count": 6,
     "metadata": {},
     "output_type": "execute_result"
    }
   ],
   "source": [
    "from sklearn.preprocessing import StandardScaler\n",
    "scaler = StandardScaler()\n",
    "scaler.fit(x_train)\n"
   ]
  },
  {
   "cell_type": "markdown",
   "metadata": {},
   "source": [
    "### Here the warning issued is about the change of values from Interger to Float, which is OKAY for us."
   ]
  },
  {
   "cell_type": "markdown",
   "metadata": {},
   "source": [
    "## Now *implementing* the scalar over the x_train and x_test and transforming them to x_train_scaler and x_test_scaler"
   ]
  },
  {
   "cell_type": "code",
   "execution_count": 7,
   "metadata": {},
   "outputs": [
    {
     "name": "stderr",
     "output_type": "stream",
     "text": [
      "/anaconda3/lib/python3.6/site-packages/sklearn/utils/validation.py:475: DataConversionWarning: Data with input dtype int64 was converted to float64 by StandardScaler.\n",
      "  warnings.warn(msg, DataConversionWarning)\n"
     ]
    }
   ],
   "source": [
    "x_train_scaler = scaler.transform(x_train)\n",
    "x_test_scaler = scaler.transform(x_test)\n"
   ]
  },
  {
   "cell_type": "markdown",
   "metadata": {},
   "source": [
    "## Dimentionality Reduction\n",
    "Having too many features in the training set can make the training process extremely slow and makes it unlikely to get a good solution.\n",
    "In statistics, machine learning, and information theory, dimensionality reduction or dimension reduction is the process of reducing the number of random variables under consideration by obtaining a set of principal variables. It can be divided into feature selection and feature extraction.\n",
    "\n",
    "## Principal component analysis (PCA)\n",
    "The main linear technique for dimensionality reduction, principal component analysis, performs a linear mapping of the data to a lower-dimensional space in such a way that the variance of the data in the low-dimensional representation is maximized."
   ]
  },
  {
   "cell_type": "markdown",
   "metadata": {},
   "source": [
    "### Ploting the relation between the Variance and the Dimensions"
   ]
  },
  {
   "cell_type": "code",
   "execution_count": 8,
   "metadata": {
    "scrolled": false
   },
   "outputs": [
    {
     "data": {
      "text/plain": [
       "<matplotlib.legend.Legend at 0x114d8ada0>"
      ]
     },
     "execution_count": 8,
     "metadata": {},
     "output_type": "execute_result"
    },
    {
     "data": {
      "image/png": "[encoded data removed]",
      "text/plain": [
       "<matplotlib.figure.Figure at 0x113bdf828>"
      ]
     },
     "metadata": {},
     "output_type": "display_data"
    }
   ],
   "source": [
    "#Using elbow to variance/dimensions\n",
    "from sklearn.decomposition import PCA\n",
    "pca = PCA()\n",
    "pca.fit(x_test_scaler)\n",
    "cumsum = np.cumsum(pca.explained_variance_ratio_)*100\n",
    "d = [n for n in range(len(cumsum))]\n",
    "plt.figure(figsize=(10, 10))\n",
    "plt.plot(d,cumsum, color = 'red',label='cumulative explained variance')\n",
    "plt.title('Cumulative Explained Variance as a Function of the Number of Components')\n",
    "plt.ylabel('Cumulative Explained variance')\n",
    "plt.xlabel('Principal components')\n",
    "plt.axhline(y = 95, color='k', linestyle='--', label = '95% Explained Variance')\n",
    "plt.legend(loc='best')\n"
   ]
  },
  {
   "cell_type": "markdown",
   "metadata": {},
   "source": [
    "### Applying PCA and Transforming x_train_scaler and x_test_scaler to x_train_pca and x_test_pca respectively"
   ]
  },
  {
   "cell_type": "code",
   "execution_count": 9,
   "metadata": {},
   "outputs": [],
   "source": [
    "from sklearn.decomposition import PCA\n",
    "pca = PCA(.95) \n",
    "pca.fit(x_train_scaler)\n",
    "\n",
    "x_train_pca = pca.transform(x_train_scaler)\n",
    "x_test_pca = pca.transform(x_test_scaler)\n",
    "\n"
   ]
  },
  {
   "cell_type": "markdown",
   "metadata": {},
   "source": [
    "Here the the min Variance is set to 95%, therefore the the minimum dimentions are chosen keeping the stated Variance."
   ]
  },
  {
   "cell_type": "markdown",
   "metadata": {},
   "source": [
    "## Comparing the images before and after applying the PCA"
   ]
  },
  {
   "cell_type": "code",
   "execution_count": 10,
   "metadata": {},
   "outputs": [
    {
     "data": {
      "text/plain": [
       "<matplotlib.image.AxesImage at 0x114e835c0>"
      ]
     },
     "execution_count": 10,
     "metadata": {},
     "output_type": "execute_result"
    },
    {
     "data": {
      "image/png": "[encoded data removed]",
      "text/plain": [
       "<matplotlib.figure.Figure at 0x114db8e10>"
      ]
     },
     "metadata": {},
     "output_type": "display_data"
    }
   ],
   "source": [
    "sample = x_train[1234]\n",
    "sample.shape = (28,28)\n",
    "\n",
    "\n",
    "a = plt.subplot(1,2,1)\n",
    "a.set_title('Original Image')\n",
    "plt.imshow(sample, cmap = plt.cm.gray_r)\n",
    "\n",
    "sample = pca.inverse_transform(x_train_pca[1234])\n",
    "sample.shape = (28,28)\n",
    "\n",
    "b = plt.subplot(1,2,2)\n",
    "b.set_title(\"Reduced after PCA\")\n",
    "plt.imshow(sample, cmap = plt.cm.gray_r)\n",
    "\n"
   ]
  },
  {
   "cell_type": "markdown",
   "metadata": {},
   "source": [
    "## Logistic Regression:\n",
    "logistic regression is a regression model where the dependent variable (DV) is categorical, where the output can take only two values, \"0\" and \"1\", which represent outcomes such as pass/fail, win/lose, alive/dead or healthy/sick. Cases where the dependent variable has more than two outcome categories may be analysed in multinomial logistic regression.\n",
    "\n",
    "###### MNIST dataset in a Multivariate Classification problem with 10 classes ( 0, 1, 2, ... , 9)\n",
    "\n",
    "## Applying the Logistic Regression model:"
   ]
  },
  {
   "cell_type": "code",
   "execution_count": 11,
   "metadata": {},
   "outputs": [
    {
     "name": "stderr",
     "output_type": "stream",
     "text": [
      "/anaconda3/lib/python3.6/site-packages/sklearn/utils/validation.py:578: DataConversionWarning: A column-vector y was passed when a 1d array was expected. Please change the shape of y to (n_samples, ), for example using ravel().\n",
      "  y = column_or_1d(y, warn=True)\n"
     ]
    },
    {
     "name": "stdout",
     "output_type": "stream",
     "text": [
      "0:00:27.411016\n"
     ]
    }
   ],
   "source": [
    "from sklearn.linear_model import LogisticRegression\n",
    "# Making an instances of logistic regression\n",
    "logistic_regression = LogisticRegression(solver = 'lbfgs')\n",
    "\n",
    "# Train the traing model\n",
    "tick =datetime.datetime.now()\n",
    "logistic_regression.fit(x_train_pca, y_train)\n",
    "tock=datetime.datetime.now()\n",
    "lr_train_time = tock - tick\n",
    "print(lr_train_time)"
   ]
  },
  {
   "cell_type": "markdown",
   "metadata": {},
   "source": [
    "## Predicting values on training set"
   ]
  },
  {
   "cell_type": "code",
   "execution_count": 12,
   "metadata": {},
   "outputs": [
    {
     "name": "stdout",
     "output_type": "stream",
     "text": [
      "0:00:00.080465\n"
     ]
    }
   ],
   "source": [
    "tick=datetime.datetime.now()\n",
    "lr_train_predict=logistic_regression.predict(x_train_pca)\n",
    "tock=datetime.datetime.now()\n",
    "lr_pred_train_time = tock - tick\n",
    "print(lr_pred_train_time)"
   ]
  },
  {
   "cell_type": "markdown",
   "metadata": {},
   "source": [
    "## Confusion Matrix (Training Set)\n",
    "In the field of machine learning and specifically the problem of statistical classification, a confusion matrix, also known as an error matrix,is a specific table layout that allows visualization of the performance of an algorithm, typically a supervised learning one (in unsupervised learning it is usually called a matching matrix). Each row of the matrix represents the instances in a predicted class while each column represents the instances in an actual class (or vice versa).The name stems from the fact that it makes it easy to see if the system is confusing two classes (i.e. commonly mislabelling one as another).\n",
    "\n",
    "It is a special kind of contingency table, with two dimensions (\"actual\" and \"predicted\"), and identical sets of \"classes\" in both dimensions (each combination of dimension and class is a variable in the contingency table)."
   ]
  },
  {
   "cell_type": "code",
   "execution_count": 13,
   "metadata": {},
   "outputs": [
    {
     "data": {
      "image/png": "[encoded data removed]",
      "text/plain": [
       "<matplotlib.figure.Figure at 0x114d573c8>"
      ]
     },
     "metadata": {},
     "output_type": "display_data"
    }
   ],
   "source": [
    "#Making the confusion Matrix\n",
    "\n",
    "from sklearn.metrics import confusion_matrix\n",
    "cf= confusion_matrix(y_train, lr_train_predict)\n",
    "\n",
    "# Visualizing the Confusion Matrix`\n",
    "\n",
    "plt.matshow(cf , cmap = plt.cm.gray, )\n",
    "plt.show()\n",
    "\n"
   ]
  },
  {
   "cell_type": "markdown",
   "metadata": {},
   "source": [
    "### Here the rows represent the ACTUAL CLASS and the columns represent PREDICTED CLASS.\n",
    "the whiteness across the diagonal shows the high values that Most of the class were predicted correctly."
   ]
  },
  {
   "cell_type": "markdown",
   "metadata": {},
   "source": [
    "## Error Analysis (Training Set)"
   ]
  },
  {
   "cell_type": "code",
   "execution_count": 14,
   "metadata": {},
   "outputs": [
    {
     "data": {
      "image/png": "[encoded data removed]",
      "text/plain": [
       "<matplotlib.figure.Figure at 0x113b4c9b0>"
      ]
     },
     "metadata": {},
     "output_type": "display_data"
    }
   ],
   "source": [
    "# Analyzing the Errors\n",
    "row_sums = cf.sum(axis=1 , keepdims = True)\n",
    "normal_cf = cf/row_sums\n",
    "\n",
    "np.fill_diagonal(normal_cf,0)\n",
    "plt.matshow(normal_cf,cmap = plt.cm.gray)\n",
    "\n",
    "plt.title(\"error Analysis\")\n",
    "plt.show()\n",
    "\n"
   ]
  },
  {
   "cell_type": "markdown",
   "metadata": {},
   "source": [
    "### Looking at the error analysis:\n",
    "\n",
    "#### most prominent errors are:\n",
    "\n",
    "$4,9$ and &9,4&\n",
    "\n",
    "$9,7$ and $7,9$\n",
    "\n",
    "$8,5$ but not $5,8$\n",
    "\n",
    "$5,3$ and $3,5$\n",
    "\n",
    "\n",
    "\n",
    "##### That is these values were often misunderstood ,\n",
    "##### but it should also be noted that the most of the errors are not symmetrical."
   ]
  },
  {
   "cell_type": "markdown",
   "metadata": {},
   "source": [
    "## Accuracy on Training Set"
   ]
  },
  {
   "cell_type": "code",
   "execution_count": 15,
   "metadata": {},
   "outputs": [
    {
     "data": {
      "text/plain": [
       "0.925165419423657"
      ]
     },
     "execution_count": 15,
     "metadata": {},
     "output_type": "execute_result"
    }
   ],
   "source": [
    "logistic_regression.score(x_train_pca, y_train)\n"
   ]
  },
  {
   "cell_type": "markdown",
   "metadata": {},
   "source": [
    "##### Accuracy on the training set came out to be $92.51$% which is vey good indeed."
   ]
  },
  {
   "cell_type": "markdown",
   "metadata": {},
   "source": [
    "## Predicting values on the Test Set"
   ]
  },
  {
   "cell_type": "code",
   "execution_count": 16,
   "metadata": {},
   "outputs": [
    {
     "name": "stdout",
     "output_type": "stream",
     "text": [
      "0:00:00.024655\n"
     ]
    }
   ],
   "source": [
    "tick=datetime.datetime.now()\n",
    "lr_test_predict=logistic_regression.predict(x_test_pca)\n",
    "tock=datetime.datetime.now()\n",
    "lr_test_time = tock - tick\n",
    "print(lr_test_time)"
   ]
  },
  {
   "cell_type": "markdown",
   "metadata": {},
   "source": [
    "## Confusion Matrix (Test Set)"
   ]
  },
  {
   "cell_type": "code",
   "execution_count": 17,
   "metadata": {},
   "outputs": [
    {
     "data": {
      "image/png": "[encoded data removed]",
      "text/plain": [
       "<matplotlib.figure.Figure at 0x10ee99b70>"
      ]
     },
     "metadata": {},
     "output_type": "display_data"
    }
   ],
   "source": [
    "#Making the confusion Matrix\n",
    "\n",
    "from sklearn.metrics import confusion_matrix\n",
    "cf= confusion_matrix(y_test, lr_test_predict)\n",
    "\n",
    "# Visualizing the Confusion Matrix`\n",
    "\n",
    "plt.matshow(cf , cmap = plt.cm.gray, )\n",
    "plt.show()\n",
    "\n",
    "\n"
   ]
  },
  {
   "cell_type": "markdown",
   "metadata": {},
   "source": [
    "## Error Analysis( Test Set )"
   ]
  },
  {
   "cell_type": "code",
   "execution_count": 18,
   "metadata": {},
   "outputs": [
    {
     "data": {
      "image/png": "[encoded data removed]",
      "text/plain": [
       "<matplotlib.figure.Figure at 0x114e2c588>"
      ]
     },
     "metadata": {},
     "output_type": "display_data"
    }
   ],
   "source": [
    "# Analyzing the Errors\n",
    "row_sums = cf.sum(axis=1 , keepdims = True)\n",
    "normal_cf = cf/row_sums\n",
    "\n",
    "np.fill_diagonal(normal_cf,0)\n",
    "plt.matshow(normal_cf,cmap = plt.cm.gray)\n",
    "\n",
    "plt.title(\"error Analysis\")\n",
    "plt.show()\n",
    "\n"
   ]
  },
  {
   "cell_type": "markdown",
   "metadata": {},
   "source": [
    "## Accuracy on Test Set"
   ]
  },
  {
   "cell_type": "code",
   "execution_count": 19,
   "metadata": {},
   "outputs": [
    {
     "name": "stdout",
     "output_type": "stream",
     "text": [
      "0.9218921892189219\n"
     ]
    }
   ],
   "source": [
    "lr_score = logistic_regression.score(x_test_pca, y_test)\n",
    "print(lr_score)"
   ]
  },
  {
   "cell_type": "markdown",
   "metadata": {},
   "source": [
    "##### As we can see that the errors are not Symmetrical, i.e. 5 is often misunderstood as 3 but 3 is not as misunderstood as 5 THAT OFTEN. \n",
    "\n",
    "and overall acuuracyComparitively near to the Training set i.e model works fine.\n",
    "\n",
    "### Accuracy on the training set came out to be  $79.88$% which Validates that the Model is Good and NOT OVERFITTING."
   ]
  },
  {
   "cell_type": "code",
   "execution_count": 20,
   "metadata": {},
   "outputs": [
    {
     "name": "stdout",
     "output_type": "stream",
     "text": [
      "Stored 'lr_score' (float64)\n",
      "Stored 'lr_train_time' (timedelta)\n",
      "Stored 'lr_test_time' (timedelta)\n"
     ]
    }
   ],
   "source": [
    "%store  lr_score\n",
    "%store  lr_train_time\n",
    "%store  lr_test_time\n"
   ]
  },
  {
   "cell_type": "code",
   "execution_count": null,
   "metadata": {},
   "outputs": [],
   "source": [
    "\n",
    "         "
   ]
  },
  {
   "cell_type": "code",
   "execution_count": null,
   "metadata": {},
   "outputs": [],
   "source": []
  },
  {
   "cell_type": "code",
   "execution_count": null,
   "metadata": {},
   "outputs": [],
   "source": []
  }
 ],
 "metadata": {
  "kernelspec": {
   "display_name": "Python 3",
   "language": "python",
   "name": "python3"
  },
  "language_info": {
   "codemirror_mode": {
    "name": "ipython",
    "version": 3
   },
   "file_extension": ".py",
   "mimetype": "text/x-python",
   "name": "python",
   "nbconvert_exporter": "python",
   "pygments_lexer": "ipython3",
   "version": "3.6.4"
  }
 },
 "nbformat": 4,
 "nbformat_minor": 2
}
