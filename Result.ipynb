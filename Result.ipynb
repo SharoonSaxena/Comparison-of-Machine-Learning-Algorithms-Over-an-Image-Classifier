{
 "cells": [
  {
   "cell_type": "markdown",
   "metadata": {},
   "source": [
    "# RESULTS\n",
    "## In this project total of 7 Algorithms have been Implemented optimized and analysed , This Notebook Contains the detailed comparison of the 7 Algorithms.\n",
    "\n",
    "## We are using several Metrics to evaluate the algorithms.\n",
    "\n",
    "### The metrics are as follows.\n",
    "\n",
    "####  Accuracy\n",
    "\n",
    "####  Time to train the Model\n",
    "\n",
    "####  Time To Predict\n",
    "\n",
    "####  Accuracy-Time Ratio( Train)\n",
    "\n",
    "####  Accuracy-Time Ratio( Test)\n",
    "\n"
   ]
  },
  {
   "cell_type": "code",
   "execution_count": 150,
   "metadata": {},
   "outputs": [],
   "source": [
    "%store -r lr_score\n",
    "%store -r lr_train_time\n",
    "%store -r lr_test_time\n",
    "\n",
    "%store -r knn_score\n",
    "%store -r knn_train_time\n",
    "%store -r knn_pred_test_time\n",
    "\n",
    "%store -r svm_rbf_score\n",
    "%store -r svm_rbf_train_time\n",
    "%store -r svm_rbf_pred_test_time\n",
    "\n",
    "%store -r svm_sig_score\n",
    "%store -r svm_sig_train_time\n",
    "%store -r svm_sig_pred_test_time\n",
    "\n",
    "%store -r svm_poly_score\n",
    "%store -r svm_poly_train_time\n",
    "%store -r svm_poly_pred_test_time\n",
    "\n",
    "%store -r nb_score\n",
    "%store -r nb_train_time\n",
    "%store -r nb_pred_test_time\n",
    "\n",
    "%store -r dt_score\n",
    "%store -r dt_train_time\n",
    "%store -r dt_pred_test_time\n"
   ]
  },
  {
   "cell_type": "code",
   "execution_count": 191,
   "metadata": {},
   "outputs": [
    {
     "name": "stdout",
     "output_type": "stream",
     "text": [
      "[0.92189218921892191, 0.79887988798879883, 0.96539653965396544, 0.97679767976797682, 0.94849484948494844, 0.45514551455145513, 0.83408340834083405]\n"
     ]
    }
   ],
   "source": [
    "Accuracy = [0.92189218921892191, 0.79887988798879883, 0.96539653965396544, 0.97679767976797682, 0.94849484948494844, 0.45514551455145513, 0.83408340834083405]  \n",
    "\n",
    "Train_time = [27.411,225.38,455.966,342.684,1.284,0.530,29.820]\n",
    "pred_test_time = [0.024,68.005,91.341,100.871,307.347,0.226,0.015]"
   ]
  },
  {
   "cell_type": "markdown",
   "metadata": {},
   "source": [
    "## Comparison based on Accuracy\n"
   ]
  },
  {
   "cell_type": "code",
   "execution_count": 192,
   "metadata": {},
   "outputs": [
    {
     "data": {
      "image/png": "[encoded data removed]",
      "text/plain": [
       "<matplotlib.figure.Figure at 0x2722930a320>"
      ]
     },
     "metadata": {},
     "output_type": "display_data"
    }
   ],
   "source": [
    "import numpy as np\n",
    "import pandas as pd\n",
    "import matplotlib.pyplot as plt\n",
    "\n",
    "x=[1,2,3,4,5,6,7]\n",
    "\n",
    "\n",
    "plt.bar(x,Accuracy)\n",
    "plt.legend()\n",
    "plt.title(\"Accuracy\")\n",
    "plt.show()"
   ]
  },
  {
   "cell_type": "markdown",
   "metadata": {
    "collapsed": true
   },
   "source": [
    "## Comparison Based on Training Time"
   ]
  },
  {
   "cell_type": "code",
   "execution_count": 193,
   "metadata": {},
   "outputs": [
    {
     "data": {
      "image/png": "[encoded data removed]",
      "text/plain": [
       "<matplotlib.figure.Figure at 0x2722930a198>"
      ]
     },
     "metadata": {},
     "output_type": "display_data"
    }
   ],
   "source": [
    "plt.bar(x,Train_time)\n",
    "plt.legend()\n",
    "plt.title('Training Time')\n",
    "plt.show()"
   ]
  },
  {
   "cell_type": "markdown",
   "metadata": {},
   "source": [
    "## Comparison based on Prediction Time"
   ]
  },
  {
   "cell_type": "code",
   "execution_count": 194,
   "metadata": {},
   "outputs": [
    {
     "data": {
      "image/png": "[encoded data removed]",
      "text/plain": [
       "<matplotlib.figure.Figure at 0x27229307400>"
      ]
     },
     "metadata": {},
     "output_type": "display_data"
    }
   ],
   "source": [
    "plt.bar(x,pred_test_time)\n",
    "plt.legend()\n",
    "plt.title('Prediction Time')\n",
    "plt.show()"
   ]
  },
  {
   "cell_type": "markdown",
   "metadata": {},
   "source": [
    " #### 1 = Logistic Regression\n",
    " #### 2 = SVM Sigmoid\n",
    " #### 3 = SVM rbf\n",
    " #### 4 = SVM polynomial\n",
    " #### 5 = KNeighbors\n",
    " #### 6 = Naive Baye's\n",
    " #### 7 = Decision Tree"
   ]
  }
 ],
 "metadata": {
  "kernelspec": {
   "display_name": "Python 3",
   "language": "python",
   "name": "python3"
  },
  "language_info": {
   "codemirror_mode": {
    "name": "ipython",
    "version": 3
   },
   "file_extension": ".py",
   "mimetype": "text/x-python",
   "name": "python",
   "nbconvert_exporter": "python",
   "pygments_lexer": "ipython3",
   "version": "3.6.4"
  }
 },
 "nbformat": 4,
 "nbformat_minor": 2
}
